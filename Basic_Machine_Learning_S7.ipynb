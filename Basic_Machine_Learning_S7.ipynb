{
 "cells": [
  {
   "cell_type": "markdown",
   "metadata": {},
   "source": [
    "# Sprint 7: Intro to Machine Learning"
   ]
  },
  {
   "cell_type": "markdown",
   "metadata": {},
   "source": [
    "Megaline, a mobile carrier, aims to transition subscribers from legacy plans to newer plans—Smart or Ultra—by leveraging a predictive model. Subscriber behavior data from those who have already switched to these plans is available, providing the foundation for this classification task.\n",
    "\n",
    "With data preprocessing already completed, the focus is on building a model capable of accurately recommending the most suitable plan. The target accuracy for this project is set at a minimum threshold of 0.75, which will be evaluated using a test dataset. The goal is to achieve the highest possible accuracy to optimize the recommendation process."
   ]
  },
  {
   "cell_type": "markdown",
   "metadata": {},
   "source": [
    "## The Data"
   ]
  },
  {
   "cell_type": "code",
   "execution_count": 13,
   "metadata": {},
   "outputs": [],
   "source": [
    "import pandas as pd\n",
    "from sklearn.tree import DecisionTreeClassifier\n",
    "from sklearn.model_selection import GridSearchCV, train_test_split\n",
    "from sklearn.ensemble import RandomForestClassifier\n",
    "from sklearn.linear_model import LogisticRegression\n",
    "from sklearn.preprocessing import StandardScaler\n",
    "from sklearn.pipeline import Pipeline"
   ]
  },
  {
   "cell_type": "code",
   "execution_count": 14,
   "metadata": {},
   "outputs": [],
   "source": [
    "df = pd.read_csv('/datasets/users_behavior.csv')"
   ]
  },
  {
   "cell_type": "markdown",
   "metadata": {},
   "source": [
    "***Data Info***\n",
    "- сalls — number of calls,\n",
    "- minutes — total call duration in minutes,\n",
    "- messages — number of text messages,\n",
    "- mb_used — Internet traffic used in MB\n",
    "- is_ultra — plan for the current month (Ultra - 1, Smart - 0)."
   ]
  },
  {
   "cell_type": "code",
   "execution_count": 15,
   "metadata": {},
   "outputs": [
    {
     "name": "stdout",
     "output_type": "stream",
     "text": [
      "<class 'pandas.core.frame.DataFrame'>\n",
      "RangeIndex: 3214 entries, 0 to 3213\n",
      "Data columns (total 5 columns):\n",
      " #   Column    Non-Null Count  Dtype  \n",
      "---  ------    --------------  -----  \n",
      " 0   calls     3214 non-null   float64\n",
      " 1   minutes   3214 non-null   float64\n",
      " 2   messages  3214 non-null   float64\n",
      " 3   mb_used   3214 non-null   float64\n",
      " 4   is_ultra  3214 non-null   int64  \n",
      "dtypes: float64(4), int64(1)\n",
      "memory usage: 125.7 KB\n"
     ]
    },
    {
     "data": {
      "text/plain": [
       "None"
      ]
     },
     "metadata": {},
     "output_type": "display_data"
    },
    {
     "data": {
      "text/html": [
       "<div>\n",
       "<style scoped>\n",
       "    .dataframe tbody tr th:only-of-type {\n",
       "        vertical-align: middle;\n",
       "    }\n",
       "\n",
       "    .dataframe tbody tr th {\n",
       "        vertical-align: top;\n",
       "    }\n",
       "\n",
       "    .dataframe thead th {\n",
       "        text-align: right;\n",
       "    }\n",
       "</style>\n",
       "<table border=\"1\" class=\"dataframe\">\n",
       "  <thead>\n",
       "    <tr style=\"text-align: right;\">\n",
       "      <th></th>\n",
       "      <th>calls</th>\n",
       "      <th>minutes</th>\n",
       "      <th>messages</th>\n",
       "      <th>mb_used</th>\n",
       "      <th>is_ultra</th>\n",
       "    </tr>\n",
       "  </thead>\n",
       "  <tbody>\n",
       "    <tr>\n",
       "      <th>0</th>\n",
       "      <td>40.0</td>\n",
       "      <td>311.90</td>\n",
       "      <td>83.0</td>\n",
       "      <td>19915.42</td>\n",
       "      <td>0</td>\n",
       "    </tr>\n",
       "    <tr>\n",
       "      <th>1</th>\n",
       "      <td>85.0</td>\n",
       "      <td>516.75</td>\n",
       "      <td>56.0</td>\n",
       "      <td>22696.96</td>\n",
       "      <td>0</td>\n",
       "    </tr>\n",
       "    <tr>\n",
       "      <th>2</th>\n",
       "      <td>77.0</td>\n",
       "      <td>467.66</td>\n",
       "      <td>86.0</td>\n",
       "      <td>21060.45</td>\n",
       "      <td>0</td>\n",
       "    </tr>\n",
       "    <tr>\n",
       "      <th>3</th>\n",
       "      <td>106.0</td>\n",
       "      <td>745.53</td>\n",
       "      <td>81.0</td>\n",
       "      <td>8437.39</td>\n",
       "      <td>1</td>\n",
       "    </tr>\n",
       "    <tr>\n",
       "      <th>4</th>\n",
       "      <td>66.0</td>\n",
       "      <td>418.74</td>\n",
       "      <td>1.0</td>\n",
       "      <td>14502.75</td>\n",
       "      <td>0</td>\n",
       "    </tr>\n",
       "  </tbody>\n",
       "</table>\n",
       "</div>"
      ],
      "text/plain": [
       "   calls  minutes  messages   mb_used  is_ultra\n",
       "0   40.0   311.90      83.0  19915.42         0\n",
       "1   85.0   516.75      56.0  22696.96         0\n",
       "2   77.0   467.66      86.0  21060.45         0\n",
       "3  106.0   745.53      81.0   8437.39         1\n",
       "4   66.0   418.74       1.0  14502.75         0"
      ]
     },
     "metadata": {},
     "output_type": "display_data"
    }
   ],
   "source": [
    "display(df.info())\n",
    "display(df.head())"
   ]
  },
  {
   "cell_type": "code",
   "execution_count": 16,
   "metadata": {},
   "outputs": [
    {
     "data": {
      "text/plain": [
       "0"
      ]
     },
     "metadata": {},
     "output_type": "display_data"
    },
    {
     "data": {
      "text/plain": [
       "0"
      ]
     },
     "metadata": {},
     "output_type": "display_data"
    }
   ],
   "source": [
    "display(df.duplicated().sum())\n",
    "display(df.duplicated(['calls','minutes','messages','mb_used']).sum())"
   ]
  },
  {
   "cell_type": "markdown",
   "metadata": {},
   "source": [
    "***Data Take Aways:***\n",
    "\n",
    "- no null values\n",
    "- data types correct for each column\n",
    "- no fully duplicated lines\n",
    "- no duplicated data on misnamed on both plans\n",
    "- 3214 indexes"
   ]
  },
  {
   "cell_type": "markdown",
   "metadata": {},
   "source": [
    "## Developing the Model"
   ]
  },
  {
   "cell_type": "markdown",
   "metadata": {},
   "source": [
    "- analyze subscribers' behavior and recommend one of Megaline's newer plans: Smart or Ultra.\n",
    "- a model with the highest possible accuracy.\n",
    "- accuracy is 0.75\n",
    "\n",
    "1. Split the source data into a training set, a validation set, and a test set.\n",
    "2. Investigate the quality of different models by changing hyperparameters. Briefly describe the findings of the study.\n",
    "3. Check the quality of the model using the test set."
   ]
  },
  {
   "cell_type": "markdown",
   "metadata": {},
   "source": [
    "### Splitting Source Data"
   ]
  },
  {
   "cell_type": "code",
   "execution_count": 17,
   "metadata": {},
   "outputs": [],
   "source": [
    "# Define features and target\n",
    "features = df.drop('is_ultra', axis=1)\n",
    "target = df['is_ultra']\n",
    "\n",
    "# Split the data into training (80%) and test (20%) sets\n",
    "features_train, features_test, target_train, target_test = train_test_split(\n",
    "    features, target, test_size=0.2, random_state=12345\n",
    ")"
   ]
  },
  {
   "cell_type": "markdown",
   "metadata": {},
   "source": [
    "### Investigating the Different Models"
   ]
  },
  {
   "cell_type": "markdown",
   "metadata": {},
   "source": [
    "***DecisionTreeClassifier:***"
   ]
  },
  {
   "cell_type": "code",
   "execution_count": 18,
   "metadata": {},
   "outputs": [
    {
     "name": "stdout",
     "output_type": "stream",
     "text": [
      "Best parameters (DecisionTree): {'max_depth': 7, 'min_samples_leaf': 1, 'min_samples_split': 10}\n",
      "Best accuracy (DecisionTree): 0.7989180612746024\n"
     ]
    }
   ],
   "source": [
    "# Set up the grid of hyperparameters\n",
    "param_grid_dt = {\n",
    "    'max_depth': [3, 5, 7, 10],\n",
    "    'min_samples_split': [2, 5, 10],\n",
    "    'min_samples_leaf': [1, 2, 4]\n",
    "}\n",
    "\n",
    "# Initialize the model\n",
    "model_dt = DecisionTreeClassifier(random_state=54321)\n",
    "\n",
    "# Set up GridSearchCV\n",
    "grid_search_dt = GridSearchCV(estimator=model_dt, param_grid=param_grid_dt, cv=5, scoring='accuracy', n_jobs=-1)\n",
    "\n",
    "# Fit the model on the training set\n",
    "grid_search_dt.fit(features_train, target_train)\n",
    "\n",
    "# Print the best parameters and accuracy\n",
    "print(f\"Best parameters (DecisionTree): {grid_search_dt.best_params_}\")\n",
    "print(f\"Best accuracy (DecisionTree): {grid_search_dt.best_score_}\")"
   ]
  },
  {
   "cell_type": "markdown",
   "metadata": {},
   "source": [
    "***RandomForestClassifier:***"
   ]
  },
  {
   "cell_type": "code",
   "execution_count": 19,
   "metadata": {},
   "outputs": [
    {
     "name": "stdout",
     "output_type": "stream",
     "text": [
      "Best parameters (RandomForest): {'max_depth': 15, 'max_features': 'sqrt', 'min_samples_leaf': 2, 'min_samples_split': 5, 'n_estimators': 200}\n",
      "Best accuracy (RandomForest): 0.8210826942692002\n"
     ]
    }
   ],
   "source": [
    "# Set up the grid of hyperparameters\n",
    "param_grid_rf = {\n",
    "    'n_estimators': [50, 100, 200],\n",
    "    'max_depth': [5, 10, 15],\n",
    "    'min_samples_split': [2, 5, 10],\n",
    "    'min_samples_leaf': [1, 2, 4],\n",
    "    'max_features': ['sqrt', 'log2']\n",
    "}\n",
    "\n",
    "# Initialize the model\n",
    "model_rf = RandomForestClassifier(random_state=54321)\n",
    "\n",
    "# Set up GridSearchCV\n",
    "grid_search_rf = GridSearchCV(estimator=model_rf, param_grid=param_grid_rf, cv=5, scoring='accuracy', n_jobs=-1)\n",
    "\n",
    "# Fit the model on the training set\n",
    "grid_search_rf.fit(features_train, target_train)\n",
    "\n",
    "# Print the best parameters and accuracy\n",
    "print(f\"Best parameters (RandomForest): {grid_search_rf.best_params_}\")\n",
    "print(f\"Best accuracy (RandomForest): {grid_search_rf.best_score_}\")"
   ]
  },
  {
   "cell_type": "markdown",
   "metadata": {},
   "source": [
    "***LogisticRegression:***"
   ]
  },
  {
   "cell_type": "code",
   "execution_count": 20,
   "metadata": {},
   "outputs": [
    {
     "name": "stdout",
     "output_type": "stream",
     "text": [
      "Best parameters (LogisticRegression): {'logisticregression__C': 0.01, 'logisticregression__penalty': 'l2', 'logisticregression__solver': 'liblinear'}\n",
      "Best accuracy (LogisticRegression): 0.7483480034755015\n"
     ]
    }
   ],
   "source": [
    "# Set up the grid of hyperparameters\n",
    "param_grid_lr = {\n",
    "    'logisticregression__C': [0.01, 0.1, 1, 10],\n",
    "    'logisticregression__penalty': ['l2'],\n",
    "    'logisticregression__solver': ['liblinear']\n",
    "}\n",
    "\n",
    "# Set up a pipeline with scaling and logistic regression\n",
    "pipeline_lr = Pipeline([\n",
    "    ('scaler', StandardScaler()),  # Scaling step\n",
    "    ('logisticregression', LogisticRegression(random_state=54321, max_iter=1000))\n",
    "])\n",
    "\n",
    "# Set up GridSearchCV\n",
    "grid_search_lr = GridSearchCV(estimator=pipeline_lr, param_grid=param_grid_lr, cv=5, scoring='accuracy', n_jobs=-1)\n",
    "\n",
    "# Fit the model on the training set\n",
    "grid_search_lr.fit(features_train, target_train)\n",
    "\n",
    "# Print the best parameters and accuracy\n",
    "print(f\"Best parameters (LogisticRegression): {grid_search_lr.best_params_}\")\n",
    "print(f\"Best accuracy (LogisticRegression): {grid_search_lr.best_score_}\")"
   ]
  },
  {
   "cell_type": "markdown",
   "metadata": {},
   "source": [
    "***Conclusion of the Classification methods:***\n",
    "\n",
    "- The best method was the RandomForestClassifier which acheived 82.11% accuracy using the training set"
   ]
  },
  {
   "cell_type": "markdown",
   "metadata": {},
   "source": [
    "### Using Test Data Set"
   ]
  },
  {
   "cell_type": "code",
   "execution_count": 21,
   "metadata": {},
   "outputs": [
    {
     "name": "stdout",
     "output_type": "stream",
     "text": [
      "Test accuracy of the best RandomForestClassifier model: 0.7853810264385692\n"
     ]
    }
   ],
   "source": [
    "# Evaluate the best RandomForestClassifier model on the test set\n",
    "test_accuracy_rf = grid_search_rf.best_estimator_.score(features_test, target_test)\n",
    "print(f\"Test accuracy of the best RandomForestClassifier model: {test_accuracy_rf}\")"
   ]
  },
  {
   "cell_type": "markdown",
   "metadata": {},
   "source": [
    "***Test Data Conclusion***\n",
    "\n",
    "- Acheived an accuracy of 78.54% using the best RandomForestClassifier model"
   ]
  },
  {
   "cell_type": "markdown",
   "metadata": {},
   "source": [
    "## Conclusion:\n"
   ]
  },
  {
   "cell_type": "markdown",
   "metadata": {},
   "source": [
    "-  In this project, the goal was to identify the best classification model for predicting whether a user is on an \"ultra\" plan based on various features. After exploring different models and tuning their hyperparameters using GridSearchCV, the RandomForestClassifier emerged as the top performer. The model achieved an accuracy of 82.11% on the validation set, indicating strong predictive capability.\n",
    "\n",
    "-  To ensure the model's generalizability, it was then tested on an unseen test set, where it achieved an accuracy of 78.54%. This slight drop in accuracy suggests that while the model is effective, there may still be room for improvement or that the test set had slightly different characteristics than the training set."
   ]
  }
 ],
 "metadata": {
  "ExecuteTimeLog": [
   {
    "duration": 407,
    "start_time": "2024-08-11T11:19:57.684Z"
   },
   {
    "duration": 1032,
    "start_time": "2024-08-11T11:20:25.144Z"
   },
   {
    "duration": 17,
    "start_time": "2024-08-11T11:21:27.277Z"
   },
   {
    "duration": 17,
    "start_time": "2024-08-11T11:21:40.244Z"
   },
   {
    "duration": 14,
    "start_time": "2024-08-11T11:21:55.157Z"
   },
   {
    "duration": 26,
    "start_time": "2024-08-11T11:22:23.365Z"
   },
   {
    "duration": 10,
    "start_time": "2024-08-11T11:25:49.281Z"
   },
   {
    "duration": 8,
    "start_time": "2024-08-11T11:25:59.982Z"
   },
   {
    "duration": 28,
    "start_time": "2024-08-11T11:27:57.230Z"
   },
   {
    "duration": 15,
    "start_time": "2024-08-11T11:28:05.138Z"
   },
   {
    "duration": 14,
    "start_time": "2024-08-11T11:28:12.296Z"
   },
   {
    "duration": 6,
    "start_time": "2024-08-11T11:47:24.297Z"
   },
   {
    "duration": 8,
    "start_time": "2024-08-11T11:49:52.751Z"
   },
   {
    "duration": 26,
    "start_time": "2024-08-11T11:49:59.850Z"
   },
   {
    "duration": 785,
    "start_time": "2024-08-11T11:50:15.416Z"
   },
   {
    "duration": 12,
    "start_time": "2024-08-11T11:50:16.204Z"
   },
   {
    "duration": 34,
    "start_time": "2024-08-11T11:50:16.218Z"
   },
   {
    "duration": 13,
    "start_time": "2024-08-11T11:50:16.258Z"
   },
   {
    "duration": 10,
    "start_time": "2024-08-11T11:50:16.274Z"
   },
   {
    "duration": 94,
    "start_time": "2024-08-11T11:52:30.149Z"
   },
   {
    "duration": 39,
    "start_time": "2024-08-11T11:52:56.484Z"
   },
   {
    "duration": 5975,
    "start_time": "2024-08-11T11:53:35.166Z"
   },
   {
    "duration": 5950,
    "start_time": "2024-08-11T11:53:43.834Z"
   },
   {
    "duration": 5967,
    "start_time": "2024-08-11T11:54:14.600Z"
   },
   {
    "duration": 4,
    "start_time": "2024-08-11T12:00:45.151Z"
   },
   {
    "duration": 13,
    "start_time": "2024-08-11T12:00:45.158Z"
   },
   {
    "duration": 29,
    "start_time": "2024-08-11T12:00:45.174Z"
   },
   {
    "duration": 33,
    "start_time": "2024-08-11T12:00:45.206Z"
   },
   {
    "duration": 10,
    "start_time": "2024-08-11T12:00:45.242Z"
   },
   {
    "duration": 28,
    "start_time": "2024-08-11T12:05:05.474Z"
   },
   {
    "duration": 4,
    "start_time": "2024-08-11T12:05:28.856Z"
   },
   {
    "duration": 11,
    "start_time": "2024-08-11T12:05:28.864Z"
   },
   {
    "duration": 25,
    "start_time": "2024-08-11T12:05:28.877Z"
   },
   {
    "duration": 31,
    "start_time": "2024-08-11T12:05:28.905Z"
   },
   {
    "duration": 10,
    "start_time": "2024-08-11T12:05:28.939Z"
   },
   {
    "duration": 26,
    "start_time": "2024-08-11T12:05:28.952Z"
   },
   {
    "duration": 0,
    "start_time": "2024-08-11T12:05:28.981Z"
   },
   {
    "duration": 1559,
    "start_time": "2024-08-11T12:08:50.021Z"
   },
   {
    "duration": 5958,
    "start_time": "2024-08-11T12:09:12.203Z"
   },
   {
    "duration": 282810,
    "start_time": "2024-08-11T12:15:12.049Z"
   },
   {
    "duration": 30,
    "start_time": "2024-08-11T12:43:11.599Z"
   },
   {
    "duration": 4,
    "start_time": "2024-08-11T12:43:49.256Z"
   },
   {
    "duration": 11,
    "start_time": "2024-08-11T12:43:49.264Z"
   },
   {
    "duration": 25,
    "start_time": "2024-08-11T12:43:49.327Z"
   },
   {
    "duration": 13,
    "start_time": "2024-08-11T12:43:49.357Z"
   },
   {
    "duration": 11,
    "start_time": "2024-08-11T12:43:49.373Z"
   },
   {
    "duration": 1602,
    "start_time": "2024-08-11T12:43:49.387Z"
   },
   {
    "duration": 0,
    "start_time": "2024-08-11T12:43:50.992Z"
   },
   {
    "duration": 0,
    "start_time": "2024-08-11T12:43:50.994Z"
   },
   {
    "duration": 1615,
    "start_time": "2024-08-11T12:50:11.615Z"
   },
   {
    "duration": 4,
    "start_time": "2024-08-11T12:50:15.879Z"
   },
   {
    "duration": 1760,
    "start_time": "2024-08-11T12:50:23.318Z"
   },
   {
    "duration": 1552,
    "start_time": "2024-08-11T12:50:38.892Z"
   },
   {
    "duration": 4,
    "start_time": "2024-08-11T12:51:04.591Z"
   },
   {
    "duration": 10,
    "start_time": "2024-08-11T12:51:04.600Z"
   },
   {
    "duration": 25,
    "start_time": "2024-08-11T12:51:04.613Z"
   },
   {
    "duration": 14,
    "start_time": "2024-08-11T12:51:04.642Z"
   },
   {
    "duration": 11,
    "start_time": "2024-08-11T12:51:04.659Z"
   },
   {
    "duration": 1560,
    "start_time": "2024-08-11T12:51:05.634Z"
   },
   {
    "duration": 283435,
    "start_time": "2024-08-11T12:51:07.198Z"
   },
   {
    "duration": 39,
    "start_time": "2024-08-11T12:55:50.636Z"
   },
   {
    "duration": 6,
    "start_time": "2024-08-11T13:00:48.743Z"
   },
   {
    "duration": 11,
    "start_time": "2024-08-11T13:00:48.753Z"
   },
   {
    "duration": 25,
    "start_time": "2024-08-11T13:00:48.767Z"
   },
   {
    "duration": 42,
    "start_time": "2024-08-11T13:00:48.795Z"
   },
   {
    "duration": 10,
    "start_time": "2024-08-11T13:00:48.841Z"
   },
   {
    "duration": 1578,
    "start_time": "2024-08-11T13:00:48.854Z"
   },
   {
    "duration": 284040,
    "start_time": "2024-08-11T13:00:50.435Z"
   },
   {
    "duration": 29,
    "start_time": "2024-08-11T13:05:34.478Z"
   },
   {
    "duration": 4,
    "start_time": "2024-08-11T13:06:20.487Z"
   },
   {
    "duration": 523,
    "start_time": "2024-08-11T13:06:24.512Z"
   },
   {
    "duration": 208,
    "start_time": "2024-08-11T13:17:37.641Z"
   },
   {
    "duration": 374,
    "start_time": "2024-08-11T13:18:15.278Z"
   },
   {
    "duration": 1206,
    "start_time": "2024-08-21T06:39:11.471Z"
   },
   {
    "duration": 19,
    "start_time": "2024-08-21T06:39:12.681Z"
   },
   {
    "duration": 42,
    "start_time": "2024-08-21T06:39:12.703Z"
   },
   {
    "duration": 13,
    "start_time": "2024-08-21T06:39:12.750Z"
   },
   {
    "duration": 419,
    "start_time": "2024-08-21T06:39:12.766Z"
   },
   {
    "duration": 0,
    "start_time": "2024-08-21T06:39:13.187Z"
   },
   {
    "duration": 0,
    "start_time": "2024-08-21T06:39:13.190Z"
   },
   {
    "duration": 0,
    "start_time": "2024-08-21T06:39:13.192Z"
   },
   {
    "duration": 0,
    "start_time": "2024-08-21T06:39:13.194Z"
   },
   {
    "duration": 4,
    "start_time": "2024-08-21T06:42:59.227Z"
   },
   {
    "duration": 11,
    "start_time": "2024-08-21T06:42:59.236Z"
   },
   {
    "duration": 26,
    "start_time": "2024-08-21T06:42:59.250Z"
   },
   {
    "duration": 14,
    "start_time": "2024-08-21T06:42:59.279Z"
   },
   {
    "duration": 8,
    "start_time": "2024-08-21T06:42:59.333Z"
   },
   {
    "duration": 1949,
    "start_time": "2024-08-21T06:42:59.344Z"
   },
   {
    "duration": 50877,
    "start_time": "2024-08-21T06:43:01.296Z"
   },
   {
    "duration": 0,
    "start_time": "2024-08-21T06:43:52.176Z"
   },
   {
    "duration": 0,
    "start_time": "2024-08-21T06:43:52.178Z"
   },
   {
    "duration": 5,
    "start_time": "2024-08-21T06:43:54.858Z"
   },
   {
    "duration": 12,
    "start_time": "2024-08-21T06:43:54.869Z"
   },
   {
    "duration": 25,
    "start_time": "2024-08-21T06:43:54.884Z"
   },
   {
    "duration": 27,
    "start_time": "2024-08-21T06:43:54.912Z"
   },
   {
    "duration": 8,
    "start_time": "2024-08-21T06:43:54.942Z"
   },
   {
    "duration": 1942,
    "start_time": "2024-08-21T06:43:54.954Z"
   },
   {
    "duration": 398270,
    "start_time": "2024-08-21T06:43:56.900Z"
   },
   {
    "duration": 230,
    "start_time": "2024-08-21T06:50:35.173Z"
   },
   {
    "duration": 49,
    "start_time": "2024-08-21T06:53:34.061Z"
   }
  ],
  "kernelspec": {
   "display_name": "Python 3 (ipykernel)",
   "language": "python",
   "name": "python3"
  },
  "language_info": {
   "codemirror_mode": {
    "name": "ipython",
    "version": 3
   },
   "file_extension": ".py",
   "mimetype": "text/x-python",
   "name": "python",
   "nbconvert_exporter": "python",
   "pygments_lexer": "ipython3",
   "version": "3.9.19"
  },
  "toc": {
   "base_numbering": 1,
   "nav_menu": {},
   "number_sections": true,
   "sideBar": true,
   "skip_h1_title": true,
   "title_cell": "Table of Contents",
   "title_sidebar": "Contents",
   "toc_cell": false,
   "toc_position": {},
   "toc_section_display": true,
   "toc_window_display": false
  }
 },
 "nbformat": 4,
 "nbformat_minor": 2
}
